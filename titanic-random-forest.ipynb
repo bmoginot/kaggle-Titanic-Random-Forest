{
 "cells": [
  {
   "cell_type": "code",
   "execution_count": 1,
   "id": "6f39b06b",
   "metadata": {
    "_cell_guid": "b1076dfc-b9ad-4769-8c92-a6c4dae69d19",
    "_uuid": "8f2839f25d086af736a60e9eeb907d3b93b6e0e5",
    "execution": {
     "iopub.execute_input": "2025-01-24T19:30:56.396409Z",
     "iopub.status.busy": "2025-01-24T19:30:56.396060Z",
     "iopub.status.idle": "2025-01-24T19:30:57.342241Z",
     "shell.execute_reply": "2025-01-24T19:30:57.340805Z"
    },
    "papermill": {
     "duration": 0.951227,
     "end_time": "2025-01-24T19:30:57.343981",
     "exception": false,
     "start_time": "2025-01-24T19:30:56.392754",
     "status": "completed"
    },
    "tags": []
   },
   "outputs": [
    {
     "name": "stdout",
     "output_type": "stream",
     "text": [
      "/kaggle/input/titanic/train.csv\n",
      "/kaggle/input/titanic/test.csv\n",
      "/kaggle/input/titanic/gender_submission.csv\n"
     ]
    }
   ],
   "source": [
    "# This Python 3 environment comes with many helpful analytics libraries installed\n",
    "# It is defined by the kaggle/python Docker image: https://github.com/kaggle/docker-python\n",
    "# For example, here's several helpful packages to load\n",
    "\n",
    "import numpy as np # linear algebra\n",
    "import pandas as pd # data processing, CSV file I/O (e.g. pd.read_csv)\n",
    "\n",
    "# Input data files are available in the read-only \"../input/\" directory\n",
    "# For example, running this (by clicking run or pressing Shift+Enter) will list all files under the input directory\n",
    "\n",
    "import os\n",
    "for dirname, _, filenames in os.walk('/kaggle/input'):\n",
    "    for filename in filenames:\n",
    "        print(os.path.join(dirname, filename))\n",
    "\n",
    "# You can write up to 20GB to the current directory (/kaggle/working/) that gets preserved as output when you create a version using \"Save & Run All\" \n",
    "# You can also write temporary files to /kaggle/temp/, but they won't be saved outside of the current session"
   ]
  },
  {
   "cell_type": "code",
   "execution_count": 2,
   "id": "75b25a8c",
   "metadata": {
    "execution": {
     "iopub.execute_input": "2025-01-24T19:30:57.349170Z",
     "iopub.status.busy": "2025-01-24T19:30:57.348695Z",
     "iopub.status.idle": "2025-01-24T19:30:59.788523Z",
     "shell.execute_reply": "2025-01-24T19:30:59.787518Z"
    },
    "papermill": {
     "duration": 2.444267,
     "end_time": "2025-01-24T19:30:59.790502",
     "exception": false,
     "start_time": "2025-01-24T19:30:57.346235",
     "status": "completed"
    },
    "tags": []
   },
   "outputs": [],
   "source": [
    "import pandas as pd\n",
    "from sklearn.ensemble import RandomForestClassifier\n",
    "\n",
    "# define global parameters\n",
    "n_estimators = 300\n",
    "max_depth = 18\n",
    "min_samples_split = 4\n",
    "min_samples_leaf = 2\n",
    "seed = 23\n",
    "\n",
    "def clean_train_data(file):\n",
    "    data = pd.read_csv(file)\n",
    "    init_features = [\"Survived\", \"Pclass\", \"Sex\", \"SibSp\", \"Parch\", \"Embarked\"] # choose relevant features\n",
    "    data = data[init_features]\n",
    "    data = pd.get_dummies(data) # one hot encode categorical values\n",
    "    return data\n",
    "\n",
    "def get_vals(data):\n",
    "    \"\"\"get X and y to use in training and testing model\"\"\"\n",
    "    features = [\"Pclass\", \n",
    "                \"SibSp\", \n",
    "                \"Parch\", \n",
    "                \"Sex_female\", \n",
    "                \"Sex_male\", \n",
    "                \"Embarked_C\", \n",
    "                \"Embarked_Q\", \n",
    "                \"Embarked_S\"] # update features based on OHE\n",
    "\n",
    "    X = data[features] # values to learn from \n",
    "    y = data[\"Survived\"] # values to predict\n",
    "    return X, y\n",
    "\n",
    "def fit_model():\n",
    "    \"\"\"fit model to train data then make predictions on test data\"\"\"\n",
    "    rf_model = RandomForestClassifier(n_estimators=n_estimators, \n",
    "                                    max_depth=max_depth, \n",
    "                                    min_samples_leaf=min_samples_leaf, \n",
    "                                    min_samples_split=min_samples_split, \n",
    "                                    random_state=seed) # initialize random forest model\n",
    "    rf_model.fit(X, y) # fit model to training data\n",
    "    return rf_model\n",
    "\n",
    "def clean_test_data(file):\n",
    "    data = pd.read_csv(file)\n",
    "    init_features = [\"PassengerId\", \"Pclass\", \"Sex\", \"SibSp\", \"Parch\", \"Embarked\"] # choose relevant features\n",
    "    data = data[init_features]\n",
    "    data = pd.get_dummies(data) # one hot encode categorical values\n",
    "    return data\n",
    "\n",
    "cleaned_data = clean_train_data(\"/kaggle/input/titanic/train.csv\")\n",
    "X, y = get_vals(cleaned_data)\n",
    "model = fit_model()\n",
    "test_data = clean_test_data(\"/kaggle/input/titanic/test.csv\")\n",
    "test_X = test_data.drop(\"PassengerId\", axis=1)\n",
    "preds = model.predict(test_X) # get predictions based on test data\n",
    "\n",
    "output = pd.DataFrame({'PassengerId': test_data.PassengerId, 'Survived': preds})\n",
    "output.to_csv('submission.csv', index=False) # write solution out to csv for submission"
   ]
  }
 ],
 "metadata": {
  "kaggle": {
   "accelerator": "none",
   "dataSources": [
    {
     "databundleVersionId": 26502,
     "sourceId": 3136,
     "sourceType": "competition"
    }
   ],
   "dockerImageVersionId": 30839,
   "isGpuEnabled": false,
   "isInternetEnabled": true,
   "language": "python",
   "sourceType": "notebook"
  },
  "kernelspec": {
   "display_name": "Python 3",
   "language": "python",
   "name": "python3"
  },
  "language_info": {
   "codemirror_mode": {
    "name": "ipython",
    "version": 3
   },
   "file_extension": ".py",
   "mimetype": "text/x-python",
   "name": "python",
   "nbconvert_exporter": "python",
   "pygments_lexer": "ipython3",
   "version": "3.10.12"
  },
  "papermill": {
   "default_parameters": {},
   "duration": 6.831877,
   "end_time": "2025-01-24T19:31:00.511905",
   "environment_variables": {},
   "exception": null,
   "input_path": "__notebook__.ipynb",
   "output_path": "__notebook__.ipynb",
   "parameters": {},
   "start_time": "2025-01-24T19:30:53.680028",
   "version": "2.6.0"
  }
 },
 "nbformat": 4,
 "nbformat_minor": 5
}
